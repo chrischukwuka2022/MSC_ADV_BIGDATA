{
 "cells": [
  {
   "cell_type": "code",
   "execution_count": 1,
   "id": "6c06dcd1",
   "metadata": {},
   "outputs": [],
   "source": [
    "\n",
    "#imports\n",
    "import numpy as np\n",
    "import pandas as pd\n",
    "import string # from some string manipulation tasks\n",
    "import nltk # natural language toolkit\n",
    "import re # regex\n",
    "import csv\n",
    "from textblob import TextBlob\n",
    "from string import punctuation # solving punctuation problems\n",
    "from nltk.corpus import stopwords # stop words in sentences\n",
    "from nltk.stem import WordNetLemmatizer # For stemming the sentence\n",
    "from nltk.stem import SnowballStemmer # For stemming the sentence\n",
    "from contractions import contractions_dict # to solve contractions\n",
    "from autocorrect import Speller #correcting the spellings"
   ]
  },
  {
   "cell_type": "code",
   "execution_count": 2,
   "id": "1e939b42",
   "metadata": {},
   "outputs": [],
   "source": [
    "train = pd.read_csv('C:\\\\Users\\\\chris\\\\Downloads\\\\Menthal\\\\MH_Campaigns1723.csv')"
   ]
  },
  {
   "cell_type": "code",
   "execution_count": 3,
   "id": "46c3d62c",
   "metadata": {},
   "outputs": [
    {
     "data": {
      "text/html": [
       "<div>\n",
       "<style scoped>\n",
       "    .dataframe tbody tr th:only-of-type {\n",
       "        vertical-align: middle;\n",
       "    }\n",
       "\n",
       "    .dataframe tbody tr th {\n",
       "        vertical-align: top;\n",
       "    }\n",
       "\n",
       "    .dataframe thead th {\n",
       "        text-align: right;\n",
       "    }\n",
       "</style>\n",
       "<table border=\"1\" class=\"dataframe\">\n",
       "  <thead>\n",
       "    <tr style=\"text-align: right;\">\n",
       "      <th></th>\n",
       "      <th>Date</th>\n",
       "      <th>ID</th>\n",
       "      <th>url</th>\n",
       "      <th>username</th>\n",
       "      <th>source</th>\n",
       "      <th>location</th>\n",
       "      <th>tweet</th>\n",
       "      <th>likes</th>\n",
       "      <th>rt</th>\n",
       "      <th>followers</th>\n",
       "      <th>replies</th>\n",
       "      <th>campaign</th>\n",
       "      <th>likes_pf</th>\n",
       "      <th>replies_pf</th>\n",
       "      <th>rt_pf</th>\n",
       "      <th>engagement</th>\n",
       "      <th>engagement_0</th>\n",
       "    </tr>\n",
       "  </thead>\n",
       "  <tbody>\n",
       "    <tr>\n",
       "      <th>0</th>\n",
       "      <td>2023-02-15 13:48:52+00:00</td>\n",
       "      <td>1625854658601418753</td>\n",
       "      <td>https://twitter.com/haringeyiapt/status/162585...</td>\n",
       "      <td>haringeyiapt</td>\n",
       "      <td>Twitter for iPhone</td>\n",
       "      <td>Haringey</td>\n",
       "      <td>People with OCD experience intensely negative,...</td>\n",
       "      <td>5</td>\n",
       "      <td>1</td>\n",
       "      <td>317</td>\n",
       "      <td>0</td>\n",
       "      <td>OCD</td>\n",
       "      <td>0.015773</td>\n",
       "      <td>0.000000</td>\n",
       "      <td>0.006309</td>\n",
       "      <td>0.022082</td>\n",
       "      <td>0.031546</td>\n",
       "    </tr>\n",
       "    <tr>\n",
       "      <th>1</th>\n",
       "      <td>2023-02-09 22:37:56+00:00</td>\n",
       "      <td>1623813475469344769</td>\n",
       "      <td>https://twitter.com/scrupulOCD_KC/status/16238...</td>\n",
       "      <td>scrupulOCD_KC</td>\n",
       "      <td>Twitter for Android</td>\n",
       "      <td>unknown</td>\n",
       "      <td>Hello all I'm Erika an @IOCDF grassroots advoc...</td>\n",
       "      <td>0</td>\n",
       "      <td>0</td>\n",
       "      <td>9</td>\n",
       "      <td>0</td>\n",
       "      <td>OCD</td>\n",
       "      <td>0.000000</td>\n",
       "      <td>0.000000</td>\n",
       "      <td>0.000000</td>\n",
       "      <td>0.000000</td>\n",
       "      <td>0.000000</td>\n",
       "    </tr>\n",
       "    <tr>\n",
       "      <th>2</th>\n",
       "      <td>2022-10-20 11:30:07+00:00</td>\n",
       "      <td>1583057973496406016</td>\n",
       "      <td>https://twitter.com/FootstepsCandC/status/1583...</td>\n",
       "      <td>FootstepsCandC</td>\n",
       "      <td>SmarterQueue</td>\n",
       "      <td>Gloucester</td>\n",
       "      <td>In light of last week's OCD Awareness week, we...</td>\n",
       "      <td>0</td>\n",
       "      <td>0</td>\n",
       "      <td>905</td>\n",
       "      <td>0</td>\n",
       "      <td>OCD</td>\n",
       "      <td>0.000000</td>\n",
       "      <td>0.000000</td>\n",
       "      <td>0.000000</td>\n",
       "      <td>0.000000</td>\n",
       "      <td>0.000000</td>\n",
       "    </tr>\n",
       "    <tr>\n",
       "      <th>3</th>\n",
       "      <td>2022-10-18 19:42:14+00:00</td>\n",
       "      <td>1582457044451627008</td>\n",
       "      <td>https://twitter.com/IOCDF/status/1582457044451...</td>\n",
       "      <td>IOCDF</td>\n",
       "      <td>Twitter Web App</td>\n",
       "      <td>Boston, MA</td>\n",
       "      <td>The GIFS now have over 1.4 million views on GI...</td>\n",
       "      <td>5</td>\n",
       "      <td>2</td>\n",
       "      <td>19257</td>\n",
       "      <td>0</td>\n",
       "      <td>OCD</td>\n",
       "      <td>0.000260</td>\n",
       "      <td>0.000000</td>\n",
       "      <td>0.000208</td>\n",
       "      <td>0.000467</td>\n",
       "      <td>0.000519</td>\n",
       "    </tr>\n",
       "    <tr>\n",
       "      <th>4</th>\n",
       "      <td>2022-10-18 19:42:13+00:00</td>\n",
       "      <td>1582457038969262080</td>\n",
       "      <td>https://twitter.com/IOCDF/status/1582457038969...</td>\n",
       "      <td>IOCDF</td>\n",
       "      <td>Twitter Web App</td>\n",
       "      <td>Boston, MA</td>\n",
       "      <td>The 2022 #OCDweek events, activities, and live...</td>\n",
       "      <td>7</td>\n",
       "      <td>2</td>\n",
       "      <td>19257</td>\n",
       "      <td>1</td>\n",
       "      <td>OCD</td>\n",
       "      <td>0.000364</td>\n",
       "      <td>0.000156</td>\n",
       "      <td>0.000208</td>\n",
       "      <td>0.000727</td>\n",
       "      <td>0.000779</td>\n",
       "    </tr>\n",
       "  </tbody>\n",
       "</table>\n",
       "</div>"
      ],
      "text/plain": [
       "                        Date                   ID  \\\n",
       "0  2023-02-15 13:48:52+00:00  1625854658601418753   \n",
       "1  2023-02-09 22:37:56+00:00  1623813475469344769   \n",
       "2  2022-10-20 11:30:07+00:00  1583057973496406016   \n",
       "3  2022-10-18 19:42:14+00:00  1582457044451627008   \n",
       "4  2022-10-18 19:42:13+00:00  1582457038969262080   \n",
       "\n",
       "                                                 url        username  \\\n",
       "0  https://twitter.com/haringeyiapt/status/162585...    haringeyiapt   \n",
       "1  https://twitter.com/scrupulOCD_KC/status/16238...   scrupulOCD_KC   \n",
       "2  https://twitter.com/FootstepsCandC/status/1583...  FootstepsCandC   \n",
       "3  https://twitter.com/IOCDF/status/1582457044451...           IOCDF   \n",
       "4  https://twitter.com/IOCDF/status/1582457038969...           IOCDF   \n",
       "\n",
       "                source    location  \\\n",
       "0   Twitter for iPhone   Haringey    \n",
       "1  Twitter for Android     unknown   \n",
       "2         SmarterQueue  Gloucester   \n",
       "3      Twitter Web App  Boston, MA   \n",
       "4      Twitter Web App  Boston, MA   \n",
       "\n",
       "                                               tweet  likes  rt  followers  \\\n",
       "0  People with OCD experience intensely negative,...      5   1        317   \n",
       "1  Hello all I'm Erika an @IOCDF grassroots advoc...      0   0          9   \n",
       "2  In light of last week's OCD Awareness week, we...      0   0        905   \n",
       "3  The GIFS now have over 1.4 million views on GI...      5   2      19257   \n",
       "4  The 2022 #OCDweek events, activities, and live...      7   2      19257   \n",
       "\n",
       "   replies campaign  likes_pf  replies_pf     rt_pf  engagement  engagement_0  \n",
       "0        0      OCD  0.015773    0.000000  0.006309    0.022082      0.031546  \n",
       "1        0      OCD  0.000000    0.000000  0.000000    0.000000      0.000000  \n",
       "2        0      OCD  0.000000    0.000000  0.000000    0.000000      0.000000  \n",
       "3        0      OCD  0.000260    0.000000  0.000208    0.000467      0.000519  \n",
       "4        1      OCD  0.000364    0.000156  0.000208    0.000727      0.000779  "
      ]
     },
     "execution_count": 3,
     "metadata": {},
     "output_type": "execute_result"
    }
   ],
   "source": [
    "train.head()"
   ]
  },
  {
   "cell_type": "code",
   "execution_count": 4,
   "id": "9c534e87",
   "metadata": {},
   "outputs": [
    {
     "data": {
      "text/html": [
       "<div>\n",
       "<style scoped>\n",
       "    .dataframe tbody tr th:only-of-type {\n",
       "        vertical-align: middle;\n",
       "    }\n",
       "\n",
       "    .dataframe tbody tr th {\n",
       "        vertical-align: top;\n",
       "    }\n",
       "\n",
       "    .dataframe thead th {\n",
       "        text-align: right;\n",
       "    }\n",
       "</style>\n",
       "<table border=\"1\" class=\"dataframe\">\n",
       "  <thead>\n",
       "    <tr style=\"text-align: right;\">\n",
       "      <th></th>\n",
       "      <th>Date</th>\n",
       "      <th>ID</th>\n",
       "      <th>url</th>\n",
       "      <th>username</th>\n",
       "      <th>source</th>\n",
       "      <th>location</th>\n",
       "      <th>tweet</th>\n",
       "      <th>likes</th>\n",
       "      <th>rt</th>\n",
       "      <th>followers</th>\n",
       "      <th>replies</th>\n",
       "      <th>campaign</th>\n",
       "      <th>likes_pf</th>\n",
       "      <th>replies_pf</th>\n",
       "      <th>rt_pf</th>\n",
       "      <th>engagement</th>\n",
       "      <th>engagement_0</th>\n",
       "    </tr>\n",
       "  </thead>\n",
       "  <tbody>\n",
       "    <tr>\n",
       "      <th>0</th>\n",
       "      <td>2023-02-15 13:48:52+00:00</td>\n",
       "      <td>1625854658601418753</td>\n",
       "      <td>https://twitter.com/haringeyiapt/status/162585...</td>\n",
       "      <td>haringeyiapt</td>\n",
       "      <td>Twitter for iPhone</td>\n",
       "      <td>Haringey</td>\n",
       "      <td>People with OCD experience intensely negative,...</td>\n",
       "      <td>5</td>\n",
       "      <td>1</td>\n",
       "      <td>317</td>\n",
       "      <td>0</td>\n",
       "      <td>OCD</td>\n",
       "      <td>0.015773</td>\n",
       "      <td>0.000000</td>\n",
       "      <td>0.006309</td>\n",
       "      <td>0.022082</td>\n",
       "      <td>0.031546</td>\n",
       "    </tr>\n",
       "    <tr>\n",
       "      <th>1</th>\n",
       "      <td>2023-02-09 22:37:56+00:00</td>\n",
       "      <td>1623813475469344769</td>\n",
       "      <td>https://twitter.com/scrupulOCD_KC/status/16238...</td>\n",
       "      <td>scrupulOCD_KC</td>\n",
       "      <td>Twitter for Android</td>\n",
       "      <td>unknown</td>\n",
       "      <td>Hello all I'm Erika an @IOCDF grassroots advoc...</td>\n",
       "      <td>0</td>\n",
       "      <td>0</td>\n",
       "      <td>9</td>\n",
       "      <td>0</td>\n",
       "      <td>OCD</td>\n",
       "      <td>0.000000</td>\n",
       "      <td>0.000000</td>\n",
       "      <td>0.000000</td>\n",
       "      <td>0.000000</td>\n",
       "      <td>0.000000</td>\n",
       "    </tr>\n",
       "    <tr>\n",
       "      <th>2</th>\n",
       "      <td>2022-10-20 11:30:07+00:00</td>\n",
       "      <td>1583057973496406016</td>\n",
       "      <td>https://twitter.com/FootstepsCandC/status/1583...</td>\n",
       "      <td>FootstepsCandC</td>\n",
       "      <td>SmarterQueue</td>\n",
       "      <td>Gloucester</td>\n",
       "      <td>In light of last week's OCD Awareness week, we...</td>\n",
       "      <td>0</td>\n",
       "      <td>0</td>\n",
       "      <td>905</td>\n",
       "      <td>0</td>\n",
       "      <td>OCD</td>\n",
       "      <td>0.000000</td>\n",
       "      <td>0.000000</td>\n",
       "      <td>0.000000</td>\n",
       "      <td>0.000000</td>\n",
       "      <td>0.000000</td>\n",
       "    </tr>\n",
       "    <tr>\n",
       "      <th>3</th>\n",
       "      <td>2022-10-18 19:42:14+00:00</td>\n",
       "      <td>1582457044451627008</td>\n",
       "      <td>https://twitter.com/IOCDF/status/1582457044451...</td>\n",
       "      <td>IOCDF</td>\n",
       "      <td>Twitter Web App</td>\n",
       "      <td>Boston, MA</td>\n",
       "      <td>The GIFS now have over 1.4 million views on GI...</td>\n",
       "      <td>5</td>\n",
       "      <td>2</td>\n",
       "      <td>19257</td>\n",
       "      <td>0</td>\n",
       "      <td>OCD</td>\n",
       "      <td>0.000260</td>\n",
       "      <td>0.000000</td>\n",
       "      <td>0.000208</td>\n",
       "      <td>0.000467</td>\n",
       "      <td>0.000519</td>\n",
       "    </tr>\n",
       "    <tr>\n",
       "      <th>4</th>\n",
       "      <td>2022-10-18 19:42:13+00:00</td>\n",
       "      <td>1582457038969262080</td>\n",
       "      <td>https://twitter.com/IOCDF/status/1582457038969...</td>\n",
       "      <td>IOCDF</td>\n",
       "      <td>Twitter Web App</td>\n",
       "      <td>Boston, MA</td>\n",
       "      <td>The 2022 #OCDweek events, activities, and live...</td>\n",
       "      <td>7</td>\n",
       "      <td>2</td>\n",
       "      <td>19257</td>\n",
       "      <td>1</td>\n",
       "      <td>OCD</td>\n",
       "      <td>0.000364</td>\n",
       "      <td>0.000156</td>\n",
       "      <td>0.000208</td>\n",
       "      <td>0.000727</td>\n",
       "      <td>0.000779</td>\n",
       "    </tr>\n",
       "  </tbody>\n",
       "</table>\n",
       "</div>"
      ],
      "text/plain": [
       "                        Date                   ID  \\\n",
       "0  2023-02-15 13:48:52+00:00  1625854658601418753   \n",
       "1  2023-02-09 22:37:56+00:00  1623813475469344769   \n",
       "2  2022-10-20 11:30:07+00:00  1583057973496406016   \n",
       "3  2022-10-18 19:42:14+00:00  1582457044451627008   \n",
       "4  2022-10-18 19:42:13+00:00  1582457038969262080   \n",
       "\n",
       "                                                 url        username  \\\n",
       "0  https://twitter.com/haringeyiapt/status/162585...    haringeyiapt   \n",
       "1  https://twitter.com/scrupulOCD_KC/status/16238...   scrupulOCD_KC   \n",
       "2  https://twitter.com/FootstepsCandC/status/1583...  FootstepsCandC   \n",
       "3  https://twitter.com/IOCDF/status/1582457044451...           IOCDF   \n",
       "4  https://twitter.com/IOCDF/status/1582457038969...           IOCDF   \n",
       "\n",
       "                source    location  \\\n",
       "0   Twitter for iPhone   Haringey    \n",
       "1  Twitter for Android     unknown   \n",
       "2         SmarterQueue  Gloucester   \n",
       "3      Twitter Web App  Boston, MA   \n",
       "4      Twitter Web App  Boston, MA   \n",
       "\n",
       "                                               tweet  likes  rt  followers  \\\n",
       "0  People with OCD experience intensely negative,...      5   1        317   \n",
       "1  Hello all I'm Erika an @IOCDF grassroots advoc...      0   0          9   \n",
       "2  In light of last week's OCD Awareness week, we...      0   0        905   \n",
       "3  The GIFS now have over 1.4 million views on GI...      5   2      19257   \n",
       "4  The 2022 #OCDweek events, activities, and live...      7   2      19257   \n",
       "\n",
       "   replies campaign  likes_pf  replies_pf     rt_pf  engagement  engagement_0  \n",
       "0        0      OCD  0.015773    0.000000  0.006309    0.022082      0.031546  \n",
       "1        0      OCD  0.000000    0.000000  0.000000    0.000000      0.000000  \n",
       "2        0      OCD  0.000000    0.000000  0.000000    0.000000      0.000000  \n",
       "3        0      OCD  0.000260    0.000000  0.000208    0.000467      0.000519  \n",
       "4        1      OCD  0.000364    0.000156  0.000208    0.000727      0.000779  "
      ]
     },
     "execution_count": 4,
     "metadata": {},
     "output_type": "execute_result"
    }
   ],
   "source": [
    "# remove nan or missing values from multiple colu\n",
    "train =  train.dropna()\n",
    "train.head()"
   ]
  },
  {
   "cell_type": "code",
   "execution_count": 5,
   "id": "3bcdc89b",
   "metadata": {},
   "outputs": [
    {
     "data": {
      "text/plain": [
       "(724756, 17)"
      ]
     },
     "execution_count": 5,
     "metadata": {},
     "output_type": "execute_result"
    }
   ],
   "source": [
    "train.shape"
   ]
  },
  {
   "cell_type": "code",
   "execution_count": 6,
   "id": "ed47d523",
   "metadata": {},
   "outputs": [
    {
     "data": {
      "text/plain": [
       "\"Hello all I'm Erika an @IOCDF grassroots advocate that loves to #rockyourvalues by painting rocks to spread awareness and lower stigma about OCD in our community.  Here is a look back from #OCDweek 2022!! Excited for my workshop at the end of Feb! \\U0001faf6\\n\\nhttps://t.co/nzsi43m1gW\""
      ]
     },
     "execution_count": 6,
     "metadata": {},
     "output_type": "execute_result"
    }
   ],
   "source": [
    "train[\"tweet\"][1]"
   ]
  },
  {
   "cell_type": "code",
   "execution_count": 7,
   "id": "20bd9d9a",
   "metadata": {},
   "outputs": [],
   "source": [
    "#Create a feature word count that count s the word count in each string.  EAch tweet will be a sting. What split does\n",
    "#is look for individual word structures.\n",
    "train['word_count'] = train['tweet'].apply(lambda x: len(str(x).split(\" \")))"
   ]
  },
  {
   "cell_type": "code",
   "execution_count": 8,
   "id": "4050690d",
   "metadata": {},
   "outputs": [
    {
     "data": {
      "text/html": [
       "<div>\n",
       "<style scoped>\n",
       "    .dataframe tbody tr th:only-of-type {\n",
       "        vertical-align: middle;\n",
       "    }\n",
       "\n",
       "    .dataframe tbody tr th {\n",
       "        vertical-align: top;\n",
       "    }\n",
       "\n",
       "    .dataframe thead th {\n",
       "        text-align: right;\n",
       "    }\n",
       "</style>\n",
       "<table border=\"1\" class=\"dataframe\">\n",
       "  <thead>\n",
       "    <tr style=\"text-align: right;\">\n",
       "      <th></th>\n",
       "      <th>tweet</th>\n",
       "      <th>word_count</th>\n",
       "    </tr>\n",
       "  </thead>\n",
       "  <tbody>\n",
       "    <tr>\n",
       "      <th>0</th>\n",
       "      <td>People with OCD experience intensely negative,...</td>\n",
       "      <td>45</td>\n",
       "    </tr>\n",
       "    <tr>\n",
       "      <th>1</th>\n",
       "      <td>Hello all I'm Erika an @IOCDF grassroots advoc...</td>\n",
       "      <td>45</td>\n",
       "    </tr>\n",
       "    <tr>\n",
       "      <th>2</th>\n",
       "      <td>In light of last week's OCD Awareness week, we...</td>\n",
       "      <td>43</td>\n",
       "    </tr>\n",
       "    <tr>\n",
       "      <th>3</th>\n",
       "      <td>The GIFS now have over 1.4 million views on GI...</td>\n",
       "      <td>47</td>\n",
       "    </tr>\n",
       "    <tr>\n",
       "      <th>4</th>\n",
       "      <td>The 2022 #OCDweek events, activities, and live...</td>\n",
       "      <td>39</td>\n",
       "    </tr>\n",
       "  </tbody>\n",
       "</table>\n",
       "</div>"
      ],
      "text/plain": [
       "                                               tweet  word_count\n",
       "0  People with OCD experience intensely negative,...          45\n",
       "1  Hello all I'm Erika an @IOCDF grassroots advoc...          45\n",
       "2  In light of last week's OCD Awareness week, we...          43\n",
       "3  The GIFS now have over 1.4 million views on GI...          47\n",
       "4  The 2022 #OCDweek events, activities, and live...          39"
      ]
     },
     "execution_count": 8,
     "metadata": {},
     "output_type": "execute_result"
    }
   ],
   "source": [
    "train[['tweet','word_count']].head()"
   ]
  },
  {
   "cell_type": "code",
   "execution_count": 9,
   "id": "b09139e1",
   "metadata": {},
   "outputs": [
    {
     "data": {
      "text/html": [
       "<div>\n",
       "<style scoped>\n",
       "    .dataframe tbody tr th:only-of-type {\n",
       "        vertical-align: middle;\n",
       "    }\n",
       "\n",
       "    .dataframe tbody tr th {\n",
       "        vertical-align: top;\n",
       "    }\n",
       "\n",
       "    .dataframe thead th {\n",
       "        text-align: right;\n",
       "    }\n",
       "</style>\n",
       "<table border=\"1\" class=\"dataframe\">\n",
       "  <thead>\n",
       "    <tr style=\"text-align: right;\">\n",
       "      <th></th>\n",
       "      <th>Date</th>\n",
       "      <th>ID</th>\n",
       "      <th>url</th>\n",
       "      <th>username</th>\n",
       "      <th>source</th>\n",
       "      <th>location</th>\n",
       "      <th>tweet</th>\n",
       "      <th>likes</th>\n",
       "      <th>rt</th>\n",
       "      <th>followers</th>\n",
       "      <th>replies</th>\n",
       "      <th>campaign</th>\n",
       "      <th>likes_pf</th>\n",
       "      <th>replies_pf</th>\n",
       "      <th>rt_pf</th>\n",
       "      <th>engagement</th>\n",
       "      <th>engagement_0</th>\n",
       "      <th>word_count</th>\n",
       "    </tr>\n",
       "  </thead>\n",
       "  <tbody>\n",
       "    <tr>\n",
       "      <th>0</th>\n",
       "      <td>2023-02-15 13:48:52+00:00</td>\n",
       "      <td>1625854658601418753</td>\n",
       "      <td>https://twitter.com/haringeyiapt/status/162585...</td>\n",
       "      <td>haringeyiapt</td>\n",
       "      <td>Twitter for iPhone</td>\n",
       "      <td>Haringey</td>\n",
       "      <td>People with OCD experience intensely negative,...</td>\n",
       "      <td>5</td>\n",
       "      <td>1</td>\n",
       "      <td>317</td>\n",
       "      <td>0</td>\n",
       "      <td>OCD</td>\n",
       "      <td>0.015773</td>\n",
       "      <td>0.000000</td>\n",
       "      <td>0.006309</td>\n",
       "      <td>0.022082</td>\n",
       "      <td>0.031546</td>\n",
       "      <td>45</td>\n",
       "    </tr>\n",
       "    <tr>\n",
       "      <th>1</th>\n",
       "      <td>2023-02-09 22:37:56+00:00</td>\n",
       "      <td>1623813475469344769</td>\n",
       "      <td>https://twitter.com/scrupulOCD_KC/status/16238...</td>\n",
       "      <td>scrupulOCD_KC</td>\n",
       "      <td>Twitter for Android</td>\n",
       "      <td>unknown</td>\n",
       "      <td>Hello all I'm Erika an @IOCDF grassroots advoc...</td>\n",
       "      <td>0</td>\n",
       "      <td>0</td>\n",
       "      <td>9</td>\n",
       "      <td>0</td>\n",
       "      <td>OCD</td>\n",
       "      <td>0.000000</td>\n",
       "      <td>0.000000</td>\n",
       "      <td>0.000000</td>\n",
       "      <td>0.000000</td>\n",
       "      <td>0.000000</td>\n",
       "      <td>45</td>\n",
       "    </tr>\n",
       "    <tr>\n",
       "      <th>2</th>\n",
       "      <td>2022-10-20 11:30:07+00:00</td>\n",
       "      <td>1583057973496406016</td>\n",
       "      <td>https://twitter.com/FootstepsCandC/status/1583...</td>\n",
       "      <td>FootstepsCandC</td>\n",
       "      <td>SmarterQueue</td>\n",
       "      <td>Gloucester</td>\n",
       "      <td>In light of last week's OCD Awareness week, we...</td>\n",
       "      <td>0</td>\n",
       "      <td>0</td>\n",
       "      <td>905</td>\n",
       "      <td>0</td>\n",
       "      <td>OCD</td>\n",
       "      <td>0.000000</td>\n",
       "      <td>0.000000</td>\n",
       "      <td>0.000000</td>\n",
       "      <td>0.000000</td>\n",
       "      <td>0.000000</td>\n",
       "      <td>43</td>\n",
       "    </tr>\n",
       "    <tr>\n",
       "      <th>3</th>\n",
       "      <td>2022-10-18 19:42:14+00:00</td>\n",
       "      <td>1582457044451627008</td>\n",
       "      <td>https://twitter.com/IOCDF/status/1582457044451...</td>\n",
       "      <td>IOCDF</td>\n",
       "      <td>Twitter Web App</td>\n",
       "      <td>Boston, MA</td>\n",
       "      <td>The GIFS now have over 1.4 million views on GI...</td>\n",
       "      <td>5</td>\n",
       "      <td>2</td>\n",
       "      <td>19257</td>\n",
       "      <td>0</td>\n",
       "      <td>OCD</td>\n",
       "      <td>0.000260</td>\n",
       "      <td>0.000000</td>\n",
       "      <td>0.000208</td>\n",
       "      <td>0.000467</td>\n",
       "      <td>0.000519</td>\n",
       "      <td>47</td>\n",
       "    </tr>\n",
       "    <tr>\n",
       "      <th>4</th>\n",
       "      <td>2022-10-18 19:42:13+00:00</td>\n",
       "      <td>1582457038969262080</td>\n",
       "      <td>https://twitter.com/IOCDF/status/1582457038969...</td>\n",
       "      <td>IOCDF</td>\n",
       "      <td>Twitter Web App</td>\n",
       "      <td>Boston, MA</td>\n",
       "      <td>The 2022 #OCDweek events, activities, and live...</td>\n",
       "      <td>7</td>\n",
       "      <td>2</td>\n",
       "      <td>19257</td>\n",
       "      <td>1</td>\n",
       "      <td>OCD</td>\n",
       "      <td>0.000364</td>\n",
       "      <td>0.000156</td>\n",
       "      <td>0.000208</td>\n",
       "      <td>0.000727</td>\n",
       "      <td>0.000779</td>\n",
       "      <td>39</td>\n",
       "    </tr>\n",
       "  </tbody>\n",
       "</table>\n",
       "</div>"
      ],
      "text/plain": [
       "                        Date                   ID  \\\n",
       "0  2023-02-15 13:48:52+00:00  1625854658601418753   \n",
       "1  2023-02-09 22:37:56+00:00  1623813475469344769   \n",
       "2  2022-10-20 11:30:07+00:00  1583057973496406016   \n",
       "3  2022-10-18 19:42:14+00:00  1582457044451627008   \n",
       "4  2022-10-18 19:42:13+00:00  1582457038969262080   \n",
       "\n",
       "                                                 url        username  \\\n",
       "0  https://twitter.com/haringeyiapt/status/162585...    haringeyiapt   \n",
       "1  https://twitter.com/scrupulOCD_KC/status/16238...   scrupulOCD_KC   \n",
       "2  https://twitter.com/FootstepsCandC/status/1583...  FootstepsCandC   \n",
       "3  https://twitter.com/IOCDF/status/1582457044451...           IOCDF   \n",
       "4  https://twitter.com/IOCDF/status/1582457038969...           IOCDF   \n",
       "\n",
       "                source    location  \\\n",
       "0   Twitter for iPhone   Haringey    \n",
       "1  Twitter for Android     unknown   \n",
       "2         SmarterQueue  Gloucester   \n",
       "3      Twitter Web App  Boston, MA   \n",
       "4      Twitter Web App  Boston, MA   \n",
       "\n",
       "                                               tweet  likes  rt  followers  \\\n",
       "0  People with OCD experience intensely negative,...      5   1        317   \n",
       "1  Hello all I'm Erika an @IOCDF grassroots advoc...      0   0          9   \n",
       "2  In light of last week's OCD Awareness week, we...      0   0        905   \n",
       "3  The GIFS now have over 1.4 million views on GI...      5   2      19257   \n",
       "4  The 2022 #OCDweek events, activities, and live...      7   2      19257   \n",
       "\n",
       "   replies campaign  likes_pf  replies_pf     rt_pf  engagement  engagement_0  \\\n",
       "0        0      OCD  0.015773    0.000000  0.006309    0.022082      0.031546   \n",
       "1        0      OCD  0.000000    0.000000  0.000000    0.000000      0.000000   \n",
       "2        0      OCD  0.000000    0.000000  0.000000    0.000000      0.000000   \n",
       "3        0      OCD  0.000260    0.000000  0.000208    0.000467      0.000519   \n",
       "4        1      OCD  0.000364    0.000156  0.000208    0.000727      0.000779   \n",
       "\n",
       "   word_count  \n",
       "0          45  \n",
       "1          45  \n",
       "2          43  \n",
       "3          47  \n",
       "4          39  "
      ]
     },
     "execution_count": 9,
     "metadata": {},
     "output_type": "execute_result"
    }
   ],
   "source": [
    "train.head(5)"
   ]
  },
  {
   "cell_type": "code",
   "execution_count": 10,
   "id": "5b1f3bb7",
   "metadata": {},
   "outputs": [],
   "source": [
    "def avg_word(sentence):\n",
    "  words = sentence.split()\n",
    "  return (sum(len(word) for word in words)/len(words))"
   ]
  },
  {
   "cell_type": "code",
   "execution_count": 11,
   "id": "20a09fc5",
   "metadata": {},
   "outputs": [],
   "source": [
    "train['avg_word'] = train['tweet'].apply(lambda x: avg_word(x))"
   ]
  },
  {
   "cell_type": "code",
   "execution_count": 12,
   "id": "608b3f0f",
   "metadata": {},
   "outputs": [
    {
     "data": {
      "text/html": [
       "<div>\n",
       "<style scoped>\n",
       "    .dataframe tbody tr th:only-of-type {\n",
       "        vertical-align: middle;\n",
       "    }\n",
       "\n",
       "    .dataframe tbody tr th {\n",
       "        vertical-align: top;\n",
       "    }\n",
       "\n",
       "    .dataframe thead th {\n",
       "        text-align: right;\n",
       "    }\n",
       "</style>\n",
       "<table border=\"1\" class=\"dataframe\">\n",
       "  <thead>\n",
       "    <tr style=\"text-align: right;\">\n",
       "      <th></th>\n",
       "      <th>tweet</th>\n",
       "      <th>avg_word</th>\n",
       "    </tr>\n",
       "  </thead>\n",
       "  <tbody>\n",
       "    <tr>\n",
       "      <th>0</th>\n",
       "      <td>People with OCD experience intensely negative,...</td>\n",
       "      <td>5.711111</td>\n",
       "    </tr>\n",
       "    <tr>\n",
       "      <th>1</th>\n",
       "      <td>Hello all I'm Erika an @IOCDF grassroots advoc...</td>\n",
       "      <td>5.066667</td>\n",
       "    </tr>\n",
       "    <tr>\n",
       "      <th>2</th>\n",
       "      <td>In light of last week's OCD Awareness week, we...</td>\n",
       "      <td>5.409091</td>\n",
       "    </tr>\n",
       "    <tr>\n",
       "      <th>3</th>\n",
       "      <td>The GIFS now have over 1.4 million views on GI...</td>\n",
       "      <td>4.744681</td>\n",
       "    </tr>\n",
       "    <tr>\n",
       "      <th>4</th>\n",
       "      <td>The 2022 #OCDweek events, activities, and live...</td>\n",
       "      <td>6.102564</td>\n",
       "    </tr>\n",
       "  </tbody>\n",
       "</table>\n",
       "</div>"
      ],
      "text/plain": [
       "                                               tweet  avg_word\n",
       "0  People with OCD experience intensely negative,...  5.711111\n",
       "1  Hello all I'm Erika an @IOCDF grassroots advoc...  5.066667\n",
       "2  In light of last week's OCD Awareness week, we...  5.409091\n",
       "3  The GIFS now have over 1.4 million views on GI...  4.744681\n",
       "4  The 2022 #OCDweek events, activities, and live...  6.102564"
      ]
     },
     "execution_count": 12,
     "metadata": {},
     "output_type": "execute_result"
    }
   ],
   "source": [
    "train[['tweet','avg_word']].head()"
   ]
  },
  {
   "cell_type": "code",
   "execution_count": 13,
   "id": "8e3a0597",
   "metadata": {},
   "outputs": [
    {
     "name": "stderr",
     "output_type": "stream",
     "text": [
      "[nltk_data] Downloading package stopwords to\n",
      "[nltk_data]     C:\\Users\\chris\\AppData\\Roaming\\nltk_data...\n",
      "[nltk_data]   Package stopwords is already up-to-date!\n"
     ]
    },
    {
     "data": {
      "text/plain": [
       "True"
      ]
     },
     "execution_count": 13,
     "metadata": {},
     "output_type": "execute_result"
    }
   ],
   "source": [
    "import nltk\n",
    "nltk.download('stopwords')"
   ]
  },
  {
   "cell_type": "code",
   "execution_count": 14,
   "id": "d5cdf467",
   "metadata": {},
   "outputs": [],
   "source": [
    "import nltk"
   ]
  },
  {
   "cell_type": "code",
   "execution_count": 15,
   "id": "d1069de4",
   "metadata": {},
   "outputs": [],
   "source": [
    "from nltk.corpus import stopwords\n",
    "stop = stopwords.words('english')"
   ]
  },
  {
   "cell_type": "code",
   "execution_count": 16,
   "id": "c30d7dae",
   "metadata": {},
   "outputs": [
    {
     "data": {
      "text/html": [
       "<div>\n",
       "<style scoped>\n",
       "    .dataframe tbody tr th:only-of-type {\n",
       "        vertical-align: middle;\n",
       "    }\n",
       "\n",
       "    .dataframe tbody tr th {\n",
       "        vertical-align: top;\n",
       "    }\n",
       "\n",
       "    .dataframe thead th {\n",
       "        text-align: right;\n",
       "    }\n",
       "</style>\n",
       "<table border=\"1\" class=\"dataframe\">\n",
       "  <thead>\n",
       "    <tr style=\"text-align: right;\">\n",
       "      <th></th>\n",
       "      <th>tweet</th>\n",
       "      <th>stopwords</th>\n",
       "    </tr>\n",
       "  </thead>\n",
       "  <tbody>\n",
       "    <tr>\n",
       "      <th>0</th>\n",
       "      <td>People with OCD experience intensely negative,...</td>\n",
       "      <td>15</td>\n",
       "    </tr>\n",
       "    <tr>\n",
       "      <th>1</th>\n",
       "      <td>Hello all I'm Erika an @IOCDF grassroots advoc...</td>\n",
       "      <td>18</td>\n",
       "    </tr>\n",
       "    <tr>\n",
       "      <th>2</th>\n",
       "      <td>In light of last week's OCD Awareness week, we...</td>\n",
       "      <td>16</td>\n",
       "    </tr>\n",
       "    <tr>\n",
       "      <th>3</th>\n",
       "      <td>The GIFS now have over 1.4 million views on GI...</td>\n",
       "      <td>19</td>\n",
       "    </tr>\n",
       "    <tr>\n",
       "      <th>4</th>\n",
       "      <td>The 2022 #OCDweek events, activities, and live...</td>\n",
       "      <td>12</td>\n",
       "    </tr>\n",
       "  </tbody>\n",
       "</table>\n",
       "</div>"
      ],
      "text/plain": [
       "                                               tweet  stopwords\n",
       "0  People with OCD experience intensely negative,...         15\n",
       "1  Hello all I'm Erika an @IOCDF grassroots advoc...         18\n",
       "2  In light of last week's OCD Awareness week, we...         16\n",
       "3  The GIFS now have over 1.4 million views on GI...         19\n",
       "4  The 2022 #OCDweek events, activities, and live...         12"
      ]
     },
     "execution_count": 16,
     "metadata": {},
     "output_type": "execute_result"
    }
   ],
   "source": [
    "#Going to take each one of the tweets x represents them, its going to go through each one of the words\n",
    "#x.split then its going to check each individual word to see if its in the stoplist if the word is we keep it\n",
    "#then we get the length and return it inot the stopwords new feature.\n",
    "train['stopwords'] = train['tweet'].apply(lambda x: len([x for x in x.split() if x in stop]))\n",
    "train[['tweet','stopwords']].head()"
   ]
  },
  {
   "cell_type": "code",
   "execution_count": 17,
   "id": "b8ed6f80",
   "metadata": {},
   "outputs": [
    {
     "data": {
      "text/html": [
       "<div>\n",
       "<style scoped>\n",
       "    .dataframe tbody tr th:only-of-type {\n",
       "        vertical-align: middle;\n",
       "    }\n",
       "\n",
       "    .dataframe tbody tr th {\n",
       "        vertical-align: top;\n",
       "    }\n",
       "\n",
       "    .dataframe thead th {\n",
       "        text-align: right;\n",
       "    }\n",
       "</style>\n",
       "<table border=\"1\" class=\"dataframe\">\n",
       "  <thead>\n",
       "    <tr style=\"text-align: right;\">\n",
       "      <th></th>\n",
       "      <th>tweet</th>\n",
       "      <th>hastags</th>\n",
       "    </tr>\n",
       "  </thead>\n",
       "  <tbody>\n",
       "    <tr>\n",
       "      <th>0</th>\n",
       "      <td>People with OCD experience intensely negative,...</td>\n",
       "      <td>2</td>\n",
       "    </tr>\n",
       "    <tr>\n",
       "      <th>1</th>\n",
       "      <td>Hello all I'm Erika an @IOCDF grassroots advoc...</td>\n",
       "      <td>2</td>\n",
       "    </tr>\n",
       "    <tr>\n",
       "      <th>2</th>\n",
       "      <td>In light of last week's OCD Awareness week, we...</td>\n",
       "      <td>1</td>\n",
       "    </tr>\n",
       "    <tr>\n",
       "      <th>3</th>\n",
       "      <td>The GIFS now have over 1.4 million views on GI...</td>\n",
       "      <td>1</td>\n",
       "    </tr>\n",
       "    <tr>\n",
       "      <th>4</th>\n",
       "      <td>The 2022 #OCDweek events, activities, and live...</td>\n",
       "      <td>1</td>\n",
       "    </tr>\n",
       "  </tbody>\n",
       "</table>\n",
       "</div>"
      ],
      "text/plain": [
       "                                               tweet  hastags\n",
       "0  People with OCD experience intensely negative,...        2\n",
       "1  Hello all I'm Erika an @IOCDF grassroots advoc...        2\n",
       "2  In light of last week's OCD Awareness week, we...        1\n",
       "3  The GIFS now have over 1.4 million views on GI...        1\n",
       "4  The 2022 #OCDweek events, activities, and live...        1"
      ]
     },
     "execution_count": 17,
     "metadata": {},
     "output_type": "execute_result"
    }
   ],
   "source": [
    "train['hastags'] = train['tweet'].apply(lambda x: len([x for x in x.split() if x.startswith('#')]))\n",
    "train[['tweet','hastags']].head()"
   ]
  },
  {
   "cell_type": "code",
   "execution_count": 18,
   "id": "17d97d97",
   "metadata": {},
   "outputs": [
    {
     "data": {
      "text/html": [
       "<div>\n",
       "<style scoped>\n",
       "    .dataframe tbody tr th:only-of-type {\n",
       "        vertical-align: middle;\n",
       "    }\n",
       "\n",
       "    .dataframe tbody tr th {\n",
       "        vertical-align: top;\n",
       "    }\n",
       "\n",
       "    .dataframe thead th {\n",
       "        text-align: right;\n",
       "    }\n",
       "</style>\n",
       "<table border=\"1\" class=\"dataframe\">\n",
       "  <thead>\n",
       "    <tr style=\"text-align: right;\">\n",
       "      <th></th>\n",
       "      <th>tweet</th>\n",
       "      <th>numerics</th>\n",
       "    </tr>\n",
       "  </thead>\n",
       "  <tbody>\n",
       "    <tr>\n",
       "      <th>0</th>\n",
       "      <td>People with OCD experience intensely negative,...</td>\n",
       "      <td>0</td>\n",
       "    </tr>\n",
       "    <tr>\n",
       "      <th>1</th>\n",
       "      <td>Hello all I'm Erika an @IOCDF grassroots advoc...</td>\n",
       "      <td>0</td>\n",
       "    </tr>\n",
       "    <tr>\n",
       "      <th>2</th>\n",
       "      <td>In light of last week's OCD Awareness week, we...</td>\n",
       "      <td>2</td>\n",
       "    </tr>\n",
       "    <tr>\n",
       "      <th>3</th>\n",
       "      <td>The GIFS now have over 1.4 million views on GI...</td>\n",
       "      <td>0</td>\n",
       "    </tr>\n",
       "    <tr>\n",
       "      <th>4</th>\n",
       "      <td>The 2022 #OCDweek events, activities, and live...</td>\n",
       "      <td>2</td>\n",
       "    </tr>\n",
       "  </tbody>\n",
       "</table>\n",
       "</div>"
      ],
      "text/plain": [
       "                                               tweet  numerics\n",
       "0  People with OCD experience intensely negative,...         0\n",
       "1  Hello all I'm Erika an @IOCDF grassroots advoc...         0\n",
       "2  In light of last week's OCD Awareness week, we...         2\n",
       "3  The GIFS now have over 1.4 million views on GI...         0\n",
       "4  The 2022 #OCDweek events, activities, and live...         2"
      ]
     },
     "execution_count": 18,
     "metadata": {},
     "output_type": "execute_result"
    }
   ],
   "source": [
    "train['numerics'] = train['tweet'].apply(lambda x: len([x for x in x.split() if x.isdigit()]))\n",
    "train[['tweet','numerics']].head()"
   ]
  },
  {
   "cell_type": "code",
   "execution_count": 19,
   "id": "039de73e",
   "metadata": {},
   "outputs": [
    {
     "data": {
      "text/html": [
       "<div>\n",
       "<style scoped>\n",
       "    .dataframe tbody tr th:only-of-type {\n",
       "        vertical-align: middle;\n",
       "    }\n",
       "\n",
       "    .dataframe tbody tr th {\n",
       "        vertical-align: top;\n",
       "    }\n",
       "\n",
       "    .dataframe thead th {\n",
       "        text-align: right;\n",
       "    }\n",
       "</style>\n",
       "<table border=\"1\" class=\"dataframe\">\n",
       "  <thead>\n",
       "    <tr style=\"text-align: right;\">\n",
       "      <th></th>\n",
       "      <th>tweet</th>\n",
       "      <th>upper</th>\n",
       "    </tr>\n",
       "  </thead>\n",
       "  <tbody>\n",
       "    <tr>\n",
       "      <th>0</th>\n",
       "      <td>People with OCD experience intensely negative,...</td>\n",
       "      <td>3</td>\n",
       "    </tr>\n",
       "    <tr>\n",
       "      <th>1</th>\n",
       "      <td>Hello all I'm Erika an @IOCDF grassroots advoc...</td>\n",
       "      <td>2</td>\n",
       "    </tr>\n",
       "    <tr>\n",
       "      <th>2</th>\n",
       "      <td>In light of last week's OCD Awareness week, we...</td>\n",
       "      <td>3</td>\n",
       "    </tr>\n",
       "    <tr>\n",
       "      <th>3</th>\n",
       "      <td>The GIFS now have over 1.4 million views on GI...</td>\n",
       "      <td>3</td>\n",
       "    </tr>\n",
       "    <tr>\n",
       "      <th>4</th>\n",
       "      <td>The 2022 #OCDweek events, activities, and live...</td>\n",
       "      <td>1</td>\n",
       "    </tr>\n",
       "  </tbody>\n",
       "</table>\n",
       "</div>"
      ],
      "text/plain": [
       "                                               tweet  upper\n",
       "0  People with OCD experience intensely negative,...      3\n",
       "1  Hello all I'm Erika an @IOCDF grassroots advoc...      2\n",
       "2  In light of last week's OCD Awareness week, we...      3\n",
       "3  The GIFS now have over 1.4 million views on GI...      3\n",
       "4  The 2022 #OCDweek events, activities, and live...      1"
      ]
     },
     "execution_count": 19,
     "metadata": {},
     "output_type": "execute_result"
    }
   ],
   "source": [
    "train['upper'] = train['tweet'].apply(lambda x: len([x for x in x.split() if x.isupper()]))\n",
    "train[['tweet','upper']].head()"
   ]
  },
  {
   "cell_type": "code",
   "execution_count": 20,
   "id": "3c2174b4",
   "metadata": {},
   "outputs": [
    {
     "data": {
      "text/plain": [
       "0    people with ocd experience intensely negative,...\n",
       "1    hello all i'm erika an @iocdf grassroots advoc...\n",
       "2    in light of last week's ocd awareness week, we...\n",
       "3    the gifs now have over 1.4 million views on gi...\n",
       "4    the 2022 #ocdweek events, activities, and live...\n",
       "Name: tweet, dtype: object"
      ]
     },
     "execution_count": 20,
     "metadata": {},
     "output_type": "execute_result"
    }
   ],
   "source": [
    "train['tweet'] = train['tweet'].apply(lambda x: \" \".join(x.lower() for x in x.split()))\n",
    "train['tweet'].head()"
   ]
  },
  {
   "cell_type": "code",
   "execution_count": 21,
   "id": "985a7f67",
   "metadata": {},
   "outputs": [
    {
     "name": "stderr",
     "output_type": "stream",
     "text": [
      "C:\\Users\\chris\\AppData\\Local\\Temp\\ipykernel_5244\\2352108740.py:2: FutureWarning: The default value of regex will change from True to False in a future version.\n",
      "  train['tweet'] = train['tweet'].str.replace('[^\\w\\s]','')\n"
     ]
    },
    {
     "data": {
      "text/plain": [
       "0    people with ocd experience intensely negative ...\n",
       "1    hello all im erika an iocdf grassroots advocat...\n",
       "2    in light of last weeks ocd awareness week we w...\n",
       "3    the gifs now have over 14 million views on gip...\n",
       "4    the 2022 ocdweek events activities and livestr...\n",
       "Name: tweet, dtype: object"
      ]
     },
     "execution_count": 21,
     "metadata": {},
     "output_type": "execute_result"
    }
   ],
   "source": [
    "#To clean all of the special characters out o fthe text use below an replaced by what is after comma look up regex for all of these.\n",
    "train['tweet'] = train['tweet'].str.replace('[^\\w\\s]','')\n",
    "train['tweet'].head()"
   ]
  },
  {
   "cell_type": "code",
   "execution_count": 22,
   "id": "0e47643d",
   "metadata": {},
   "outputs": [
    {
     "data": {
      "text/plain": [
       "0    people ocd experience intensely negative repet...\n",
       "1    hello im erika iocdf grassroots advocate loves...\n",
       "2    light last weeks ocd awareness week wanted off...\n",
       "3    gifs 14 million views giphy hope campaign shif...\n",
       "4    2022 ocdweek events activities livestreams led...\n",
       "Name: tweet, dtype: object"
      ]
     },
     "execution_count": 22,
     "metadata": {},
     "output_type": "execute_result"
    }
   ],
   "source": [
    "from nltk.corpus import stopwords\n",
    "stop = stopwords.words('english')\n",
    "train['tweet'] = train['tweet'].apply(lambda x: \" \".join(x for x in x.split() if x not in stop))\n",
    "train['tweet'].head()"
   ]
  },
  {
   "cell_type": "code",
   "execution_count": 23,
   "id": "f3a206d4",
   "metadata": {},
   "outputs": [
    {
     "data": {
      "text/plain": [
       "mentalhealthawarenessweek    444167\n",
       "mental                       309002\n",
       "health                       305118\n",
       "week                         224770\n",
       "awareness                    175144\n",
       "mentalhealth                 101121\n",
       "amp                           99496\n",
       "eatingdisorders               98678\n",
       "help                          81229\n",
       "support                       77545\n",
       "dtype: int64"
      ]
     },
     "execution_count": 23,
     "metadata": {},
     "output_type": "execute_result"
    }
   ],
   "source": [
    "freq = pd.Series(' '.join(train['tweet']).split()).value_counts()[:10]\n",
    "freq"
   ]
  },
  {
   "cell_type": "code",
   "execution_count": 24,
   "id": "e5fadd5d",
   "metadata": {},
   "outputs": [
    {
     "data": {
      "text/plain": [
       "0    people ocd experience intensely negative repet...\n",
       "1    hello im erika iocdf grassroots advocate loves...\n",
       "2    light last weeks ocd wanted offer signposting ...\n",
       "3    gifs 14 million views giphy hope campaign shif...\n",
       "4    2022 ocdweek events activities livestreams led...\n",
       "Name: tweet, dtype: object"
      ]
     },
     "execution_count": 24,
     "metadata": {},
     "output_type": "execute_result"
    }
   ],
   "source": [
    "freq = list(freq.index)\n",
    "train['tweet'] = train['tweet'].apply(lambda x: \" \".join(x for x in x.split() if x not in freq))\n",
    "train['tweet'].head()"
   ]
  },
  {
   "cell_type": "code",
   "execution_count": 25,
   "id": "36adc8df",
   "metadata": {},
   "outputs": [
    {
     "data": {
      "text/plain": [
       "httpstcozppb7wta0c                1\n",
       "httpstcoswkcpyg5jc                1\n",
       "httpstcozz4mw0h3p5                1\n",
       "httpstco9r0wt7uzwn                1\n",
       "httpstcoeoqpjemixq                1\n",
       "httpstcoqzuu45y4lo                1\n",
       "httpstcobtnr4p7rsr                1\n",
       "alexhealthymindscalderdalecouk    1\n",
       "httpstcolzcmu5kgi5                1\n",
       "vibemedia                         1\n",
       "dtype: int64"
      ]
     },
     "execution_count": 25,
     "metadata": {},
     "output_type": "execute_result"
    }
   ],
   "source": [
    "freq = pd.Series(' '.join(train['tweet']).split()).value_counts()[-10:]\n",
    "freq"
   ]
  },
  {
   "cell_type": "code",
   "execution_count": 26,
   "id": "653c45b6",
   "metadata": {},
   "outputs": [
    {
     "data": {
      "text/plain": [
       "0    people ocd experience intensely negative repet...\n",
       "1    hello im erika iocdf grassroots advocate loves...\n",
       "2    light last weeks ocd wanted offer signposting ...\n",
       "3    gifs 14 million views giphy hope campaign shif...\n",
       "4    2022 ocdweek events activities livestreams led...\n",
       "Name: tweet, dtype: object"
      ]
     },
     "execution_count": 26,
     "metadata": {},
     "output_type": "execute_result"
    }
   ],
   "source": [
    "freq = list(freq.index)\n",
    "train['tweet'] = train['tweet'].apply(lambda x: \" \".join(x for x in x.split() if x not in freq))\n",
    "train['tweet'].head()"
   ]
  },
  {
   "cell_type": "code",
   "execution_count": 27,
   "id": "2416126d",
   "metadata": {},
   "outputs": [
    {
     "data": {
      "text/plain": [
       "0    people old experience intensely negative repet...\n",
       "1    hello in erie iodi grassroots advocate loves r...\n",
       "2    light last weeks old wanted offer signposting ...\n",
       "3    gift 14 million views gipsy hope campaign shif...\n",
       "4    2022 ocdweek events activities livestreams led...\n",
       "Name: tweet, dtype: object"
      ]
     },
     "execution_count": 27,
     "metadata": {},
     "output_type": "execute_result"
    }
   ],
   "source": [
    "from textblob import TextBlob\n",
    "train['tweet'][:5].apply(lambda x: str(TextBlob(x).correct()))"
   ]
  },
  {
   "cell_type": "code",
   "execution_count": 28,
   "id": "bf1e3c46",
   "metadata": {},
   "outputs": [
    {
     "name": "stderr",
     "output_type": "stream",
     "text": [
      "[nltk_data] Downloading package punkt to\n",
      "[nltk_data]     C:\\Users\\chris\\AppData\\Roaming\\nltk_data...\n",
      "[nltk_data]   Package punkt is already up-to-date!\n"
     ]
    },
    {
     "data": {
      "text/plain": [
       "WordList(['hello', 'im', 'erika', 'iocdf', 'grassroots', 'advocate', 'loves', 'rockyourvalues', 'painting', 'rocks', 'spread', 'lower', 'stigma', 'ocd', 'community', 'look', 'back', 'ocdweek', '2022', 'excited', 'workshop', 'end', 'feb', 'httpstconzsi43m1gw'])"
      ]
     },
     "execution_count": 28,
     "metadata": {},
     "output_type": "execute_result"
    }
   ],
   "source": [
    "nltk.download('punkt')\n",
    "TextBlob(train['tweet'][1]).words"
   ]
  },
  {
   "cell_type": "code",
   "execution_count": 29,
   "id": "b1452d5b",
   "metadata": {},
   "outputs": [
    {
     "data": {
      "text/plain": [
       "0    peopl ocd experi intens neg repetit intrus tho...\n",
       "1    hello im erika iocdf grassroot advoc love rock...\n",
       "2    light last week ocd want offer signpost option...\n",
       "3    gif 14 million view giphi hope campaign shift ...\n",
       "4    2022 ocdweek event activ livestream led amaz p...\n",
       "Name: tweet, dtype: object"
      ]
     },
     "execution_count": 29,
     "metadata": {},
     "output_type": "execute_result"
    }
   ],
   "source": [
    "from nltk.stem import PorterStemmer\n",
    "st = PorterStemmer()\n",
    "train['tweet'][:5].apply(lambda x: \" \".join([st.stem(word) for word in x.split()]))"
   ]
  },
  {
   "cell_type": "code",
   "execution_count": null,
   "id": "9527c0f0",
   "metadata": {},
   "outputs": [],
   "source": []
  },
  {
   "cell_type": "code",
   "execution_count": null,
   "id": "b451ae61",
   "metadata": {},
   "outputs": [],
   "source": []
  }
 ],
 "metadata": {
  "kernelspec": {
   "display_name": "Python 3 (ipykernel)",
   "language": "python",
   "name": "python3"
  },
  "language_info": {
   "codemirror_mode": {
    "name": "ipython",
    "version": 3
   },
   "file_extension": ".py",
   "mimetype": "text/x-python",
   "name": "python",
   "nbconvert_exporter": "python",
   "pygments_lexer": "ipython3",
   "version": "3.9.13"
  }
 },
 "nbformat": 4,
 "nbformat_minor": 5
}
